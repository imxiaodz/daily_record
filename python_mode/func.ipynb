{
 "cells": [
  {
   "cell_type": "code",
   "execution_count": 1,
   "metadata": {},
   "outputs": [
    {
     "name": "stdout",
     "output_type": "stream",
     "text": [
      "hello xdz!\n"
     ]
    }
   ],
   "source": [
    "# 定义函数\n",
    "def greet(user_name): # 这里的变量 user_name 是一个形参 : 函数完成其工作所需的一项信息\n",
    "\tprint('hello ' + user_name + '!')\n",
    "\n",
    "greet('xdz') # 值‘xdz’是个实参 : 调用函数时传递给函数的信息."
   ]
  },
  {
   "cell_type": "code",
   "execution_count": 19,
   "metadata": {},
   "outputs": [
    {
     "name": "stdout",
     "output_type": "stream",
     "text": [
      "\n",
      "I have a hamster.\n",
      "My hamster's name is Harry.\n",
      "\n",
      "I have a dog.\n",
      "My dog's name is Willie.\n",
      "\n",
      "I have a hamster.\n",
      "My hamster's name is Cubi.\n"
     ]
    }
   ],
   "source": [
    "# 顺序实参\n",
    "def describe_pet(animal_type, pet_name):\n",
    "\tprint(\"\\nI have a \" + animal_type + \".\") \n",
    "\tprint(\"My \" + animal_type + \"'s name is \" + pet_name.title() + \".\") \n",
    "describe_pet('hamster', 'harry') \n",
    "describe_pet('dog', 'willie')\n",
    "\n",
    "\n",
    "# 关键字实参\n",
    "describe_pet(pet_name='cubi', animal_type='hamster')"
   ]
  },
  {
   "cell_type": "code",
   "execution_count": 39,
   "metadata": {},
   "outputs": [
    {
     "name": "stdout",
     "output_type": "stream",
     "text": [
      "\n",
      "I have a willie.\n"
     ]
    },
    {
     "data": {
      "text/plain": [
       "'li'"
      ]
     },
     "execution_count": 39,
     "metadata": {},
     "output_type": "execute_result"
    }
   ],
   "source": [
    "def describe_pet(pet_name, animal_type='dog'):\n",
    "\treturn pet_name; \n",
    "\n",
    "a_type = describe_pet('willie')\n",
    "print(\"\\nI have a \" + a_type + \".\")\n",
    "# print(\"My \" + animal_type + \"'s name is \" + pet_name.title() + \".\")\n",
    "describe_pet('li', 'cat')"
   ]
  },
  {
   "cell_type": "code",
   "execution_count": 41,
   "metadata": {},
   "outputs": [
    {
     "name": "stdout",
     "output_type": "stream",
     "text": [
      "John Lee Hooker\n"
     ]
    }
   ],
   "source": [
    "def get_formatted_name(first_name, middle_name, last_name): \n",
    "\tfull_name = first_name + ' ' + middle_name + ' ' + last_name \n",
    "\treturn full_name.title() \n",
    "musician = get_formatted_name('john', 'lee', 'hooker') \n",
    "print(musician)"
   ]
  },
  {
   "cell_type": "code",
   "execution_count": 51,
   "metadata": {},
   "outputs": [
    {
     "name": "stdout",
     "output_type": "stream",
     "text": [
      "排序后的数组: [1, 2, 3, 4, 7, 9]\n"
     ]
    }
   ],
   "source": [
    "def bubbleSort(a):\n",
    "\tn = len(a)\n",
    "\tfor i in range(n):\n",
    "\t\tfor j in range(0, n-i-1):\n",
    "\t\t\tif a[j] > a[j+1]:\n",
    "\t\t\t\ta[j], a[j+1] = a[j+1], a[j]\n",
    "\treturn a\n",
    "\n",
    "\n",
    "\n",
    "arr1 = [3, 9, 4, 2, 7, 1]\n",
    "a = bubbleSort(arr1)\n",
    "print (\"排序后的数组:\", a)"
   ]
  },
  {
   "cell_type": "code",
   "execution_count": 59,
   "metadata": {},
   "outputs": [
    {
     "name": "stdout",
     "output_type": "stream",
     "text": [
      "('pepperoni',)\n",
      "('mushrooms', 'green peppers', 'extra cheese')\n"
     ]
    }
   ],
   "source": [
    "def make_pizza(*toppings): \n",
    " \"\"\"打印顾客点的所有配料\"\"\" \n",
    " print(toppings) \n",
    "make_pizza('pepperoni') \n",
    "make_pizza('mushrooms', 'green peppers', 'extra cheese')"
   ]
  },
  {
   "cell_type": "code",
   "execution_count": 62,
   "metadata": {},
   "outputs": [
    {
     "name": "stdout",
     "output_type": "stream",
     "text": [
      "5\n"
     ]
    }
   ],
   "source": []
  }
 ],
 "metadata": {
  "interpreter": {
   "hash": "31f2aee4e71d21fbe5cf8b01ff0e069b9275f58929596ceb00d14d90e3e16cd6"
  },
  "kernelspec": {
   "display_name": "Python 3.8.9 64-bit",
   "language": "python",
   "name": "python3"
  },
  "language_info": {
   "codemirror_mode": {
    "name": "ipython",
    "version": 3
   },
   "file_extension": ".py",
   "mimetype": "text/x-python",
   "name": "python",
   "nbconvert_exporter": "python",
   "pygments_lexer": "ipython3",
   "version": "3.8.9"
  },
  "orig_nbformat": 2
 },
 "nbformat": 4,
 "nbformat_minor": 2
}
