{
 "cells": [
  {
   "cell_type": "code",
   "execution_count": 1,
   "metadata": {},
   "outputs": [
    {
     "name": "stdout",
     "output_type": "stream",
     "text": [
      "Audi\n",
      "BMW\n",
      "Subaru\n",
      "Toyota\n"
     ]
    }
   ],
   "source": [
    "cars = ['audi', 'bmw', 'subaru', 'toyota'] \n",
    "for car in cars: \n",
    "\tif car == 'bmw':          # = 代表赋值， == 代表判断\n",
    "\t\tprint(car.upper()) \n",
    "\telse: \n",
    "\t\tprint(car.title())\n",
    " "
   ]
  },
  {
   "cell_type": "code",
   "execution_count": 7,
   "metadata": {},
   "outputs": [
    {
     "data": {
      "text/plain": "True"
     },
     "execution_count": 7,
     "metadata": {},
     "output_type": "execute_result"
    }
   ],
   "source": [
    "car = 'Isset'\n",
    "car.lower() == 'isset'\n",
    "# 比较条件还有 !=  >  <  >=  <= \n"
   ]
  },
  {
   "cell_type": "code",
   "execution_count": 19,
   "metadata": {},
   "outputs": [
    {
     "name": "stdout",
     "output_type": "stream",
     "text": [
      "cool\n"
     ]
    }
   ],
   "source": [
    "# 检查多个条件 and\n",
    "# 需要检查超过两个的情形，为此可使用Python提供的if-elif-else结构\n",
    "age_0 = 22\n",
    "age_1 = 19\n",
    "requested_toppings = ['mushrooms', 'onions', 'pineapple']\n",
    "if age_0 > 20 and age_1 > 20:\n",
    "\tprint('yes')\n",
    "elif 'mushrooms' in requested_toppings:\n",
    "\tprint('cool')\n",
    "else:\n",
    "\tprint('no')"
   ]
  },
  {
   "cell_type": "code",
   "execution_count": 24,
   "metadata": {},
   "outputs": [
    {
     "name": "stdout",
     "output_type": "stream",
     "text": [
      "Adding mushrooms.\n",
      "\n",
      "Finished making your pizza!\n",
      "Are you sure you want a plain pizza?\n",
      "\n",
      "Finished making your pizza!\n"
     ]
    }
   ],
   "source": [
    "requested_toppings = ['mushrooms'] \n",
    "if requested_toppings:       # 判空列表\n",
    "\tfor requested_topping in requested_toppings: \n",
    "\t\tprint(\"Adding \" + requested_topping + \".\") \n",
    "\t\tprint(\"\\nFinished making your pizza!\") \n",
    "\telse: \n",
    "\t\tprint(\"Are you sure you want a plain pizza?\")\n",
    "print(\"\\nFinished making your pizza!\")"
   ]
  }
 ],
 "metadata": {
  "kernelspec": {
   "display_name": "Python 3.8.9 64-bit",
   "metadata": {
    "interpreter": {
     "hash": "20bf69066c0dd38d51965b69d5e1b6e387082e3198ba56e97997ac55f4e50ad0"
    }
   },
   "name": "python3"
  },
  "language_info": {
   "codemirror_mode": {
    "name": "ipython",
    "version": 3
   },
   "file_extension": ".py",
   "mimetype": "text/x-python",
   "name": "python",
   "nbconvert_exporter": "python",
   "pygments_lexer": "ipython3",
   "version": "3.8.9-final"
  },
  "orig_nbformat": 2
 },
 "nbformat": 4,
 "nbformat_minor": 2
}