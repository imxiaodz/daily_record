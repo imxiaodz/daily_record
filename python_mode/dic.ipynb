{
 "cells": [
  {
   "cell_type": "code",
   "execution_count": 5,
   "metadata": {},
   "outputs": [
    {
     "name": "stdout",
     "output_type": "stream",
     "text": [
      "green\n",
      "5\n",
      "{'color': 'green', 'points': 5, 'x_position': 0, 'y_position': 25}\n",
      "The alien is now yello.\n",
      "{'points': 5, 'x_position': 0, 'y_position': 25}\n"
     ]
    }
   ],
   "source": [
    "# 字典是一系列键—值对(map 结构？）。每个键都与一个值相关联，你可以使用键来访问与之相关联的值。\n",
    "# 与键相关联的值可以是数字、字符串、列表乃至字典\n",
    "alien_0 = {'color': 'green', 'points': 5} \n",
    "print(alien_0['color']) \n",
    "print(alien_0['points'])\n",
    "\n",
    "# 添加键值对\n",
    "alien_0['x_position'] = 0 \n",
    "alien_0['y_position'] = 25 \n",
    "print(alien_0)\n",
    "\n",
    "# 修改\n",
    "alien_0['color'] = 'yello'\n",
    "print(\"The alien is now \" + alien_0['color'] + \".\")\n",
    "\n",
    "# 删除\n",
    "del alien_0['color']\n",
    "print(alien_0)"
   ]
  },
  {
   "cell_type": "code",
   "execution_count": 20,
   "metadata": {},
   "outputs": [
    {
     "name": "stdout",
     "output_type": "stream",
     "text": [
      "\n",
      "Key: username\n",
      "\n",
      "Value: efermi\n",
      "\n",
      "Key: first\n",
      "\n",
      "Value: enrico\n",
      "\n",
      "Key: last\n",
      "\n",
      "Value: fermi\n",
      "Username\n",
      "First\n",
      "Last\n",
      "Efermi\n",
      "Enrico\n",
      "Fermi\n"
     ]
    }
   ],
   "source": [
    "user_0 = { \n",
    " 'username': 'efermi', \n",
    " 'first': 'enrico', \n",
    " 'last': 'fermi', \n",
    " } \n",
    "# 用于遍历字典的for循环，可声明两个变量，用于存储键—值对中的键和值。\n",
    "# 对于这两个变量，可使用任何名称\n",
    "# for k, v in user_0.items()\n",
    "for key, value in user_0.items(): \n",
    "\tprint(\"\\nKey: \" + key) \n",
    "\tprint(\"\\nValue: \" + value)\n",
    "\n",
    "for k in user_0.keys():\n",
    "\tprint(k.title())\n",
    "\n",
    "for v in user_0.values():\n",
    "\tprint(v.title())"
   ]
  },
  {
   "cell_type": "code",
   "execution_count": null,
   "metadata": {},
   "outputs": [],
   "source": [
    "# 嵌套"
   ]
  }
 ],
 "metadata": {
  "kernelspec": {
   "display_name": "Python 3.8.9 64-bit",
   "metadata": {
    "interpreter": {
     "hash": "20bf69066c0dd38d51965b69d5e1b6e387082e3198ba56e97997ac55f4e50ad0"
    }
   },
   "name": "python3"
  },
  "language_info": {
   "codemirror_mode": {
    "name": "ipython",
    "version": 3
   },
   "file_extension": ".py",
   "mimetype": "text/x-python",
   "name": "python",
   "nbconvert_exporter": "python",
   "pygments_lexer": "ipython3",
   "version": "3.8.9"
  },
  "orig_nbformat": 2
 },
 "nbformat": 4,
 "nbformat_minor": 2
}